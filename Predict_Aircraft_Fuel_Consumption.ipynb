{
  "cells": [
    {
      "cell_type": "markdown",
      "metadata": {
        "id": "view-in-github",
        "colab_type": "text"
      },
      "source": [
        "<a href=\"https://colab.research.google.com/github/Arka-1603/Aerospace_ML_Projects/blob/main/Predict_Aircraft_Fuel_Consumption.ipynb\" target=\"_parent\"><img src=\"https://colab.research.google.com/assets/colab-badge.svg\" alt=\"Open In Colab\"/></a>"
      ]
    },
    {
      "cell_type": "markdown",
      "source": [
        "**Step 1: Import the necessary libraries.**"
      ],
      "metadata": {
        "id": "q8Y8dfKtJ6wQ"
      }
    },
    {
      "cell_type": "code",
      "source": [
        "import numpy as np\n",
        "import pandas as pd\n",
        "from sklearn.model_selection import train_test_split\n",
        "from sklearn.linear_model import LinearRegression"
      ],
      "outputs": [],
      "execution_count": null,
      "metadata": {
        "id": "GEV93-LsJ6wn"
      }
    },
    {
      "cell_type": "markdown",
      "source": [
        "**Step 2: Load the dataset.**"
      ],
      "metadata": {
        "id": "TYFhD_EjJ6ww"
      }
    },
    {
      "cell_type": "code",
      "source": [
        "# Load the NASA Aviation Safety Reporting System (ASRS) database\n",
        "asrs_df = pd.read_csv('asrs_database.csv')"
      ],
      "outputs": [],
      "execution_count": null,
      "metadata": {
        "id": "kssvFd5kJ6w0"
      }
    },
    {
      "cell_type": "markdown",
      "source": [
        "**Step 3: Clean and prepare the dataset.**"
      ],
      "metadata": {
        "id": "unjhBXCSJ6w3"
      }
    },
    {
      "cell_type": "code",
      "source": [
        "# Drop irrelevant columns\n",
        "asrs_df.drop(['Event_ID', 'Date', 'Time', 'Location', 'Description'], axis=1, inplace=True)\n",
        "\n",
        "# Convert categorical variables to numerical variables\n",
        "asrs_df['Aircraft_type'] = asrs_df['Aircraft_type'].astype('category').cat.codes\n",
        "asrs_df['Weather_conditions'] = asrs_df['Weather_conditions'].astype('category').cat.codes\n",
        "\n",
        "# Fill in missing values\n",
        "asrs_df.fillna(method='ffill', inplace=True)"
      ],
      "outputs": [],
      "execution_count": null,
      "metadata": {
        "id": "gqoMded7J6w5"
      }
    },
    {
      "cell_type": "markdown",
      "source": [
        "**Step 4: Split the dataset into training and test sets.**"
      ],
      "metadata": {
        "id": "JFflqBM3J6w-"
      }
    },
    {
      "cell_type": "code",
      "source": [
        "# Split the dataset into 80% training and 20% test sets\n",
        "X_train, X_test, y_train, y_test = train_test_split(asrs_df.drop('Fuel_consumption', axis=1), asrs_df['Fuel_consumption'], test_size=0.2, random_state=42)"
      ],
      "outputs": [],
      "execution_count": null,
      "metadata": {
        "id": "CQhNvHReJ6xC"
      }
    },
    {
      "cell_type": "markdown",
      "source": [
        "**Step 5: Choose a machine learning algorithm.**\n",
        "\n",
        "For this project, we will use a linear regression algorithm.\n",
        "\n",
        "**Step 6: Train the model on the training set.**"
      ],
      "metadata": {
        "id": "eJp28CvQJ6xH"
      }
    },
    {
      "cell_type": "code",
      "source": [
        "# Create a linear regression model\n",
        "linear_reg = LinearRegression()\n",
        "\n",
        "# Train the model on the training set\n",
        "linear_reg.fit(X_train, y_train)"
      ],
      "outputs": [
        {
          "output_type": "execute_result",
          "data": {
            "text/plain": [
              "LinearRegression()"
            ],
            "text/html": [
              "<style>#sk-container-id-1 {color: black;background-color: white;}#sk-container-id-1 pre{padding: 0;}#sk-container-id-1 div.sk-toggleable {background-color: white;}#sk-container-id-1 label.sk-toggleable__label {cursor: pointer;display: block;width: 100%;margin-bottom: 0;padding: 0.3em;box-sizing: border-box;text-align: center;}#sk-container-id-1 label.sk-toggleable__label-arrow:before {content: \"▸\";float: left;margin-right: 0.25em;color: #696969;}#sk-container-id-1 label.sk-toggleable__label-arrow:hover:before {color: black;}#sk-container-id-1 div.sk-estimator:hover label.sk-toggleable__label-arrow:before {color: black;}#sk-container-id-1 div.sk-toggleable__content {max-height: 0;max-width: 0;overflow: hidden;text-align: left;background-color: #f0f8ff;}#sk-container-id-1 div.sk-toggleable__content pre {margin: 0.2em;color: black;border-radius: 0.25em;background-color: #f0f8ff;}#sk-container-id-1 input.sk-toggleable__control:checked~div.sk-toggleable__content {max-height: 200px;max-width: 100%;overflow: auto;}#sk-container-id-1 input.sk-toggleable__control:checked~label.sk-toggleable__label-arrow:before {content: \"▾\";}#sk-container-id-1 div.sk-estimator input.sk-toggleable__control:checked~label.sk-toggleable__label {background-color: #d4ebff;}#sk-container-id-1 div.sk-label input.sk-toggleable__control:checked~label.sk-toggleable__label {background-color: #d4ebff;}#sk-container-id-1 input.sk-hidden--visually {border: 0;clip: rect(1px 1px 1px 1px);clip: rect(1px, 1px, 1px, 1px);height: 1px;margin: -1px;overflow: hidden;padding: 0;position: absolute;width: 1px;}#sk-container-id-1 div.sk-estimator {font-family: monospace;background-color: #f0f8ff;border: 1px dotted black;border-radius: 0.25em;box-sizing: border-box;margin-bottom: 0.5em;}#sk-container-id-1 div.sk-estimator:hover {background-color: #d4ebff;}#sk-container-id-1 div.sk-parallel-item::after {content: \"\";width: 100%;border-bottom: 1px solid gray;flex-grow: 1;}#sk-container-id-1 div.sk-label:hover label.sk-toggleable__label {background-color: #d4ebff;}#sk-container-id-1 div.sk-serial::before {content: \"\";position: absolute;border-left: 1px solid gray;box-sizing: border-box;top: 0;bottom: 0;left: 50%;z-index: 0;}#sk-container-id-1 div.sk-serial {display: flex;flex-direction: column;align-items: center;background-color: white;padding-right: 0.2em;padding-left: 0.2em;position: relative;}#sk-container-id-1 div.sk-item {position: relative;z-index: 1;}#sk-container-id-1 div.sk-parallel {display: flex;align-items: stretch;justify-content: center;background-color: white;position: relative;}#sk-container-id-1 div.sk-item::before, #sk-container-id-1 div.sk-parallel-item::before {content: \"\";position: absolute;border-left: 1px solid gray;box-sizing: border-box;top: 0;bottom: 0;left: 50%;z-index: -1;}#sk-container-id-1 div.sk-parallel-item {display: flex;flex-direction: column;z-index: 1;position: relative;background-color: white;}#sk-container-id-1 div.sk-parallel-item:first-child::after {align-self: flex-end;width: 50%;}#sk-container-id-1 div.sk-parallel-item:last-child::after {align-self: flex-start;width: 50%;}#sk-container-id-1 div.sk-parallel-item:only-child::after {width: 0;}#sk-container-id-1 div.sk-dashed-wrapped {border: 1px dashed gray;margin: 0 0.4em 0.5em 0.4em;box-sizing: border-box;padding-bottom: 0.4em;background-color: white;}#sk-container-id-1 div.sk-label label {font-family: monospace;font-weight: bold;display: inline-block;line-height: 1.2em;}#sk-container-id-1 div.sk-label-container {text-align: center;}#sk-container-id-1 div.sk-container {/* jupyter's `normalize.less` sets `[hidden] { display: none; }` but bootstrap.min.css set `[hidden] { display: none !important; }` so we also need the `!important` here to be able to override the default hidden behavior on the sphinx rendered scikit-learn.org. See: https://github.com/scikit-learn/scikit-learn/issues/21755 */display: inline-block !important;position: relative;}#sk-container-id-1 div.sk-text-repr-fallback {display: none;}</style><div id=\"sk-container-id-1\" class=\"sk-top-container\"><div class=\"sk-text-repr-fallback\"><pre>LinearRegression()</pre><b>In a Jupyter environment, please rerun this cell to show the HTML representation or trust the notebook. <br />On GitHub, the HTML representation is unable to render, please try loading this page with nbviewer.org.</b></div><div class=\"sk-container\" hidden><div class=\"sk-item\"><div class=\"sk-estimator sk-toggleable\"><input class=\"sk-toggleable__control sk-hidden--visually\" id=\"sk-estimator-id-1\" type=\"checkbox\" checked><label for=\"sk-estimator-id-1\" class=\"sk-toggleable__label sk-toggleable__label-arrow\">LinearRegression</label><div class=\"sk-toggleable__content\"><pre>LinearRegression()</pre></div></div></div></div></div>"
            ]
          },
          "metadata": {},
          "execution_count": 10
        }
      ],
      "execution_count": null,
      "metadata": {
        "id": "FC7LgiU9J6xK",
        "colab": {
          "base_uri": "https://localhost:8080/",
          "height": 74
        },
        "outputId": "914d7665-d07a-430d-871d-ab7bdf0d22b0"
      }
    },
    {
      "cell_type": "markdown",
      "source": [
        "**Step 7: Evaluate the model on the test set.**"
      ],
      "metadata": {
        "id": "1ErEE8OZJ6xO"
      }
    },
    {
      "cell_type": "code",
      "source": [
        "# Make predictions on the test set\n",
        "y_pred = linear_reg.predict(X_test)\n",
        "\n",
        "# Calculate the mean squared error (MSE)\n",
        "mse = np.mean((y_pred - y_test)**2)\n",
        "\n",
        "# Print the MSE\n",
        "print('MSE:', mse)"
      ],
      "outputs": [
        {
          "output_type": "stream",
          "name": "stdout",
          "text": [
            "MSE: 1.4604907690389395e-24\n"
          ]
        }
      ],
      "execution_count": null,
      "metadata": {
        "id": "XHsoInXHJ6xQ",
        "colab": {
          "base_uri": "https://localhost:8080/"
        },
        "outputId": "79dffca5-57e9-4669-e53c-12f8eebcf20a"
      }
    },
    {
      "cell_type": "markdown",
      "source": [
        "**Step 8: Use the trained model to predict aircraft fuel consumption for new data points.**"
      ],
      "metadata": {
        "id": "RtZZzx_bJ6xR"
      }
    },
    {
      "cell_type": "code",
      "source": [
        "# Create a new data point\n",
        "new_data_point = {'Aircraft_type': 1, 'Flight_distance': 1000, 'Weather_conditions': 0, 'Payload': 10000}\n",
        "\n",
        "# Reshape the new data point into a 2D array\n",
        "new_data_point_array_2D = np.array([new_data_point]).reshape(1, -1)\n"
      ],
      "outputs": [],
      "execution_count": null,
      "metadata": {
        "id": "uyZPB_PlJ6xS"
      }
    },
    {
      "cell_type": "code",
      "source": [
        "# Convert the new data point (dictionary) into a 2D array\n",
        "new_data_point_array_2D = np.array([[new_data_point['Aircraft_type'], new_data_point['Flight_distance'], new_data_point['Weather_conditions'], new_data_point['Payload']]])\n",
        "\n",
        "# Predict the fuel consumption for the new data point\n",
        "fuel_consumption_prediction = linear_reg.predict(new_data_point_array_2D)[0]\n",
        "\n",
        "# Print the predicted fuel consumption\n",
        "print('Predicted fuel consumption:', fuel_consumption_prediction)\n"
      ],
      "metadata": {
        "colab": {
          "base_uri": "https://localhost:8080/"
        },
        "id": "Y0c1B3gxwhYh",
        "outputId": "3a5da2f3-861b-45c8-a3d9-b7c1ab3665d4"
      },
      "execution_count": null,
      "outputs": [
        {
          "output_type": "stream",
          "name": "stdout",
          "text": [
            "Predicted fuel consumption: 990.0990099009748\n"
          ]
        },
        {
          "output_type": "stream",
          "name": "stderr",
          "text": [
            "/usr/local/lib/python3.10/dist-packages/sklearn/base.py:439: UserWarning: X does not have valid feature names, but LinearRegression was fitted with feature names\n",
            "  warnings.warn(\n"
          ]
        }
      ]
    }
  ],
  "metadata": {
    "colab": {
      "provenance": [],
      "include_colab_link": true
    },
    "kernelspec": {
      "display_name": "Python 3",
      "name": "python3"
    }
  },
  "nbformat": 4,
  "nbformat_minor": 0
}